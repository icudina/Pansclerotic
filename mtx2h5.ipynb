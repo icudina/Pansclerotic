{
 "cells": [
  {
   "cell_type": "code",
   "execution_count": 1,
   "id": "931e323e",
   "metadata": {},
   "outputs": [],
   "source": [
    "import numpy as np\n",
    "import pandas as pd\n",
    "\n",
    "import h5py\n",
    "from scipy.io import mmread\n",
    "from scipy.sparse import csr_matrix\n",
    "import scipy\n",
    "\n",
    "from glob import glob"
   ]
  },
  {
   "cell_type": "code",
   "execution_count": 3,
   "id": "2be100db",
   "metadata": {},
   "outputs": [],
   "source": [
    "\n",
    "'''\n",
    "barcodes_loc = 'GSM7488053_2330-AB-1.barcodes.tsv.gz'\n",
    "gn_loc = 'GSM7488053_2330-AB-1.genes.tsv.gz'\n",
    "mtx_loc = 'GSM7488053_2330-AB-1.matrix.mtx.gz'\n",
    "'''\n",
    "\n",
    "file_folder = 'GSE234987_RAW/'\n",
    "out_file = 'test_10x.h5'\n",
    "genome_name = 'GRCh38'\n",
    "\n",
    "def mtx2h5(file_folder, file_prefix, genome_name = 'GRCh38'):\n",
    "\n",
    "    #Load data\n",
    "    barcodes = pd.read_csv(file_folder + file_prefix + 'barcodes.tsv.gz',\n",
    "                            sep = '\\t', header = None, compression='gzip')\n",
    "\n",
    "    gene_name = pd.read_csv(file_folder + file_prefix + 'genes.tsv.gz',\n",
    "                            sep = '\\t', header = None, compression='gzip')\n",
    "\n",
    "    mtx = mmread(file_folder + file_prefix + 'matrix.mtx.gz')\n",
    "    \n",
    "    #Transpose the matrix if the shape of the matrix is (gene,cell)\n",
    "    #if(gene_name.shape[0] != mtx.shape[1]):\n",
    "    #    print('Transpose')\n",
    "    #    mtx = mtx.transpose()\n",
    "    \n",
    "    #Convert the matrix to csr sparse matrix\n",
    "    mtx = scipy.sparse.csc_matrix(mtx)\n",
    "    \n",
    "    genomes = np.array(np.repeat(genome_name, gene_name.shape[0]), dtype = 'S')\n",
    "\n",
    "    #Save the converted h5 file as file_prefix + '.h5'\n",
    "    with h5py.File(file_prefix + 'h5', 'w') as f:\n",
    "        # Create matrix group\n",
    "        matrix_grp = f.create_group('matrix')\n",
    "\n",
    "        # Add datasets to matrix group\n",
    "        matrix_grp.create_dataset('barcodes', data= np.string_(barcodes[0]))\n",
    "        matrix_grp.create_dataset('data', data= np.array(mtx.data, dtype = 'i4'))\n",
    "        matrix_grp.create_dataset('indices', data= np.array(mtx.indices, dtype = 'i8'))\n",
    "        matrix_grp.create_dataset('indptr', data= np.array(mtx.indptr, dtype = 'i8'))\n",
    "        matrix_grp.create_dataset('shape', data= np.array(mtx.shape, dtype = 'i4'))\n",
    "\n",
    "        # Create features group\n",
    "        features_grp = matrix_grp.create_group('features')\n",
    "        features_grp.create_dataset('_all_tag_keys', data=np.array(['genome'], dtype = 'S6'))\n",
    "        features_grp.create_dataset('id', data=np.string_(gene_name[0]))\n",
    "        features_grp.create_dataset('name', data=np.array(np.string_(gene_name[1]), dtype = 'S16'))\n",
    "        features_grp.create_dataset('feature_type', data=np.string_(gene_name[2]))\n",
    "        features_grp.create_dataset('genome', data=genomes)\n",
    "        # Add other datasets as needed, depending on your data"
   ]
  },
  {
   "cell_type": "code",
   "execution_count": 5,
   "id": "51dd6fd2",
   "metadata": {},
   "outputs": [
    {
     "data": {
      "text/plain": [
       "['GSM7488053_2330-AB-1.',\n",
       " 'GSM7488054_2330-AB-3.',\n",
       " 'GSM7488055_4902-AB-1.',\n",
       " 'GSM7488056_4902-AB-2.',\n",
       " 'GSM7488057_2057-AB-3.',\n",
       " 'GSM7488058_2057-AB-5.',\n",
       " 'GSM7488059_2057-AB-6.']"
      ]
     },
     "execution_count": 5,
     "metadata": {},
     "output_type": "execute_result"
    }
   ],
   "source": [
    "file_prefixes = pd.Series(glob(file_folder + '*mtx.gz')).str.split('matrix',\n",
    "                                expand = True)[0].str.split('\\\\', expand = True)[1].tolist()\n",
    "file_prefixes"
   ]
  },
  {
   "cell_type": "code",
   "execution_count": 6,
   "id": "bc434709",
   "metadata": {
    "scrolled": true
   },
   "outputs": [
    {
     "name": "stdout",
     "output_type": "stream",
     "text": [
      "GSM7488053_2330-AB-1.\n",
      "GSM7488054_2330-AB-3.\n",
      "GSM7488055_4902-AB-1.\n",
      "GSM7488056_4902-AB-2.\n",
      "GSM7488057_2057-AB-3.\n",
      "GSM7488058_2057-AB-5.\n",
      "GSM7488059_2057-AB-6.\n"
     ]
    }
   ],
   "source": [
    "for file_prefix in file_prefixes:\n",
    "    \n",
    "    print(file_prefix)\n",
    "    mtx2h5(file_folder, file_prefix, genome_name = 'GRCh38')"
   ]
  },
  {
   "cell_type": "code",
   "execution_count": null,
   "id": "2e11243c",
   "metadata": {},
   "outputs": [],
   "source": []
  }
 ],
 "metadata": {
  "kernelspec": {
   "display_name": "Python 3 (ipykernel)",
   "language": "python",
   "name": "python3"
  },
  "language_info": {
   "codemirror_mode": {
    "name": "ipython",
    "version": 3
   },
   "file_extension": ".py",
   "mimetype": "text/x-python",
   "name": "python",
   "nbconvert_exporter": "python",
   "pygments_lexer": "ipython3",
   "version": "3.10.9"
  }
 },
 "nbformat": 4,
 "nbformat_minor": 5
}
